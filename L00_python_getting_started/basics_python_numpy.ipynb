{
 "cells": [
  {
   "cell_type": "markdown",
   "metadata": {},
   "source": [
    "# The Basics: Python and Numpy\n",
    "\n",
    "This is a Jupyter Notebook an interactive python environment in which you can additionally display text and LaTeX. It is important that you are using python3 as your kernel: the programming language which will be used to run your code blocks. Execute the following code block by clicking on it and pressing Shift-Return on your keyboard. If you are using python3, the result will begin with 3.X.X (this is 3.7.3 on my machine):"
   ]
  },
  {
   "cell_type": "code",
   "execution_count": null,
   "metadata": {},
   "outputs": [],
   "source": [
    "import sys\n",
    "print(sys.version)"
   ]
  },
  {
   "cell_type": "markdown",
   "metadata": {},
   "source": [
    "**Note:** this entire notebook can be run with a single press of the double-right-arrow button in the menu bar above. This will restart the \"kernel\" (the name for your current Python environment) and run all code blocks in sequence."
   ]
  },
  {
   "cell_type": "markdown",
   "metadata": {},
   "source": [
    "### Code Execution\n",
    "Now let's try running some simple plotting code to see if everything installed properly. Click on the box below and press `Shift-Return` again. You should see a plot appear after a short while."
   ]
  },
  {
   "cell_type": "code",
   "execution_count": null,
   "metadata": {
    "scrolled": false
   },
   "outputs": [],
   "source": [
    "# Setup and Helper Code\n",
    "import numpy as np\n",
    "import matplotlib.pyplot as plt\n",
    "\n",
    "# Generate some fake data\n",
    "fake_image = np.random.normal(size=(10, 10))\n",
    "\n",
    "# Make the figure\n",
    "fig = plt.figure(figsize=(5, 5), dpi=300)\n",
    "ax = plt.gca()\n",
    "im_plt = ax.imshow(fake_image, cmap='PiYG', vmin=-3, vmax=3)\n",
    "ax.set_title(\"A randomly generated image\")\n",
    "fig.colorbar(im_plt, ax=ax)\n",
    "\n",
    "# Supress any returns by adding None\n",
    "None"
   ]
  },
  {
   "cell_type": "markdown",
   "metadata": {},
   "source": [
    "## Python Fundamentals\n",
    "\n",
    "I presume, this being a 400-level CS course, that all of you have a fair amount of programming experience. However, if you have never programmed in Python before, you may not be aware of some nice Python features that will help you write cleaner and faster code. I'll describe a few of these features here. Be sure to run the code blocks below (via `shift-return`) if anything is new to you so that you can see the results."
   ]
  },
  {
   "cell_type": "markdown",
   "metadata": {},
   "source": [
    "### Printing\n",
    "\n",
    "My favorite way to print information in Python is via *f-strings*. The syntax is clear and intuitive:"
   ]
  },
  {
   "cell_type": "code",
   "execution_count": null,
   "metadata": {},
   "outputs": [],
   "source": [
    "foo = 5\n",
    "bar = 1.00002\n",
    "\n",
    "print(f\"The value of 'foo' is {foo}\")\n",
    "print(f\"The value of 'bar' is {bar}\")\n",
    "print(f\"The value of 'bar' is {bar:0.2} (to 1 decimal place)\")\n",
    "print(\"Notice that without prepending the 'f', I cannot {escape} the string!\")\n",
    "print(\"I can print long, multi-line \"\n",
    "      \"strings with ease.\")\n",
    "print(f\"Ending a command with an equal's sign allows \"\n",
    "      f\"for easy debugging: e.g., {foo=} and {bar=}\")"
   ]
  },
  {
   "cell_type": "markdown",
   "metadata": {},
   "source": [
    "### Lists and Tuples (and Sets)\n",
    "\n",
    "Lists use square brackets, `[1, 2, 3]`, and tuples use curvy braces, `(1, 2, 3)`. The primary difference between them is that lists are mutable (and can be modified), while tuples are not (and cannot). There are a number of convenience operations for working with both. Some basic principles:\n",
    "\n",
    "- Getting an element of lists and tuples is done via square brackets (and indexing starts at zero).\n",
    "- Negative indices can be used to index *backwards* into the array, so that `some_list[-1]` will return the last element of that list.\n",
    "- `len(some_list)` will return the length of a list\n",
    "- Python lists and tuples support *slicing*, which allows you to get multiple list elements. `data[2:4]`, will return another list with elements `data[2]` and `data[3]` (Note that the slice is inclusive on the lower end and not inclusive on the upper end.) One can also use `data[2:]` to get all elements 2-and-up and `data[:5]` to get all elements up to (though not including) 5. Finally, `data[::2]` will return every 2nd element of `data`.\n",
    "\n",
    "Here are some basic examples:"
   ]
  },
  {
   "cell_type": "code",
   "execution_count": null,
   "metadata": {},
   "outputs": [],
   "source": [
    "a_tuple = (1, 2, 3)  # also: tuple(data)\n",
    "\n",
    "print(f\"{a_tuple=}\")\n",
    "print(f\"{a_tuple[0]=}\")\n",
    "print(f\"{a_tuple[-1]=}\")\n",
    "print(f\"{len(a_tuple)=}\")\n",
    "\n",
    "a_list = [0, 1, 2, 3, 4, 5, 6, 7, 8, 9]  # also: list(data)\n",
    "print(f\"Base list: {a_list=}\")\n",
    "a_list.append(10)\n",
    "print(f\"After appending: {a_list=}\")\n",
    "print(f\"Slicing: {a_list[2:4]=}\")\n",
    "print(f\"Slicing: {a_list[2:]=}\")\n",
    "print(f\"Slicing: {a_list[:5]=}\")\n",
    "print(f\"Slicing (even elements): {a_list[::2]=}\")\n",
    "print(f\"Slicing (odd elements): {a_list[1::2]=}\")"
   ]
  },
  {
   "cell_type": "markdown",
   "metadata": {},
   "source": [
    "We won't be using sets much in this class, but it's nice to know that they exist: they store a bunch of elements and ensure there are no repetitions. There are also set operations, like union, intersection, and difference."
   ]
  },
  {
   "cell_type": "code",
   "execution_count": null,
   "metadata": {},
   "outputs": [],
   "source": [
    "some_set = {1, 2, 3, 3, 3}  # also: set(data)\n",
    "another_set = {3, 4, 5}\n",
    "\n",
    "print(f\"A set: {some_set}\")\n",
    "print(f\"Set Union: {some_set.union(another_set)}\")\n",
    "print(f\"Set Intersection: {some_set.intersection(another_set)}\")\n",
    "print(f\"Set Difference: {some_set.difference(another_set)}\")\n",
    "print(f\"Set Difference (again): {some_set - another_set}\")"
   ]
  },
  {
   "cell_type": "markdown",
   "metadata": {},
   "source": [
    "### Loops\n",
    "\n",
    "Many types in python are *iterable* making it easy to loop over them. Here are some examples (many of which use the `a_list` defined in a previous block."
   ]
  },
  {
   "cell_type": "code",
   "execution_count": null,
   "metadata": {},
   "outputs": [],
   "source": [
    "print(\"Simple Looping:\")\n",
    "for el in a_list[2:5]:\n",
    "    print(f\"{el=}\")\n",
    "    \n",
    "print(\"\\n'enumerate' also gives you an index.\")\n",
    "print(\"This is faster than a C++ style list that uses the index to ... index directly.\")\n",
    "for ind, el in enumerate(a_list[2:5]):\n",
    "    print(f\"{ind}: {el=}\")\n",
    "\n",
    "print(\"\\n'zip' allows you to merge multiple lists and loop over them.\")\n",
    "print(\"Be careful if your lists are different lengths.\")\n",
    "some_names = ['Leckie', 'Jemisin', 'Butler']\n",
    "for el_a, el_b in zip(a_list, some_names):\n",
    "    print(f\"{el_a=}, {el_b=}\")\n",
    "\n",
    "print(\"\\nYou can also iterate over a set (though order is not deterministic).\")\n",
    "for el in some_set:\n",
    "    print(f\"{el=}\")\n",
    "\n",
    "print(\"\\nThe 'range' function allows you to loop over a range of numbers\")\n",
    "for el in range(10, 15):\n",
    "    print(f\"{el=}\")"
   ]
  },
  {
   "cell_type": "markdown",
   "metadata": {},
   "source": [
    "However, it is worth noting that using a for loop in Python is often not the best way to iterate through elements of a list. Python has *list comprehensions*, that allow you to iterate through the elements of a list in place. For example, if I wanted to make a new list comprised of the original list with 2 added to every element, there is the C++ way of doing this by using `append` to make a new list versus the Python way, using a list comprehension, which is both faster and (I think) easier to read:"
   ]
  },
  {
   "cell_type": "code",
   "execution_count": null,
   "metadata": {},
   "outputs": [],
   "source": [
    "# C++ way\n",
    "new_list_cpp = []\n",
    "for el in a_list:\n",
    "    new_list_cpp.append(el + 2)\n",
    "\n",
    "print(f\"{new_list_cpp=}\")\n",
    "\n",
    "# Pythonic way\n",
    "new_list_py = [el + 2 for el in a_list]\n",
    "print(f\"{new_list_cpp=}\")"
   ]
  },
  {
   "cell_type": "markdown",
   "metadata": {},
   "source": [
    "### Dictionaries\n",
    "\n",
    "Python has a built-in dictionary type, known as a `map` in C++. It takes any hashable type and returns... anything else. Here is an example:"
   ]
  },
  {
   "cell_type": "code",
   "execution_count": null,
   "metadata": {},
   "outputs": [],
   "source": [
    "some_dictionary = {\n",
    "    'a': 0,\n",
    "    'b': [1, 2],\n",
    "    ('a', 'b'): [3, 4, 5]\n",
    "}\n",
    "\n",
    "print(\"Let's get some values from the dictionary:\")\n",
    "print(f\"  {some_dictionary['a']=}\")\n",
    "print(f\"  {some_dictionary['b']=}\")\n",
    "print(f\"  {some_dictionary[('a', 'b')]=}\")"
   ]
  },
  {
   "cell_type": "markdown",
   "metadata": {},
   "source": [
    "> Note: tuples `('a', 'b')` are immutable (and therefore hashable), while lists `['a', 'b']` are not. Tuples can be used as a dictionary key, while lists cannot.\n",
    "\n",
    "You can also loop over the elements in a dictionary using `some_dictionary.keys()` (getting only the keys), `some_dictionary.values()` (getting only the values), or `some_dictionary.items()`"
   ]
  },
  {
   "cell_type": "code",
   "execution_count": null,
   "metadata": {},
   "outputs": [],
   "source": [
    "print(\"Print the keys:\")\n",
    "for k in some_dictionary.keys():\n",
    "    print(f\"  {k=}\")\n",
    "    \n",
    "print(\"Print the values:\")\n",
    "for v in some_dictionary.values():\n",
    "    print(f\"  {v=}\")\n",
    "\n",
    "print(\"Print the items:\")\n",
    "for k, v in some_dictionary.items():\n",
    "    print(f\"  [{k=}] -> {v=}\")"
   ]
  },
  {
   "cell_type": "markdown",
   "metadata": {},
   "source": [
    "## Functions\n",
    "\n",
    "Functions are a key way you will be writing code in this class. It might be worth pointing out that many of the tools you learn and develop earlier in the course will come up again. If you write clear functions with good documentation, it will *absolutely* save you time in the later programming assignments. Functions are simple to define in Python, and there are a number of ways you can pass arguments to them."
   ]
  },
  {
   "cell_type": "code",
   "execution_count": null,
   "metadata": {},
   "outputs": [],
   "source": [
    "def simple_printing_function(a, b, c):\n",
    "    \"\"\"Print the arguments a, b, c.\"\"\"\n",
    "    print(\"\\nInside the simple printing function:\")\n",
    "    print(f\"  a: {a}\")\n",
    "    print(f\"  b: {b}\")\n",
    "    print(f\"  c: {c}\")\n",
    "\n",
    "print(\"\\nNote: a function returns 'None' when there is no return statement.\")\n",
    "\n",
    "print(f\"from {simple_printing_function(1, 2, 3) = }\")\n",
    "print(f\"from {simple_printing_function(a=1, b=2, c=3) = }\")\n",
    "print(f\"from {simple_printing_function(b=1, c=2, a=3) = }\")\n",
    "print(\"(It is bad practice to switch argument order.)\")\n",
    "\n",
    "\n",
    "def complex_printing_function(a, b=2, c=None):\n",
    "    \"\"\"Print the arguments a, b, c with some defaults. \n",
    "    Returns [a, b] if no value for c is passed.\"\"\"\n",
    "    print(\"\\nInside the complex printing function:\")\n",
    "    print(f\"  a: {a}\")\n",
    "    print(f\"  b: {b}\")\n",
    "    if c is not None:\n",
    "        print(f\"  c: {c}\")\n",
    "    else:\n",
    "        print(f\"  c is None (returning a value)\")\n",
    "        return [a, b]\n",
    "        \n",
    "print(f\"\\nWe can also add default values:\")\n",
    "print(f\"from {complex_printing_function(1) = }\")\n",
    "print(f\"from {complex_printing_function(a=1) = }\")\n",
    "print(f\"from {complex_printing_function(a=1) = }\")\n",
    "print(f\"from {complex_printing_function(a=1, c=5) = }\")"
   ]
  },
  {
   "cell_type": "markdown",
   "metadata": {},
   "source": [
    "## Classes\n",
    "\n",
    "You won't need to write many classes of your own for very much in this course, but it is helpful to understand how classes are defined, properties and methods added, and properties set. Here is a simple example:"
   ]
  },
  {
   "cell_type": "code",
   "execution_count": null,
   "metadata": {},
   "outputs": [],
   "source": [
    "class Foo(object):\n",
    "    \"\"\"A simple example class.\"\"\"\n",
    "    \n",
    "    def __init__(self, val):\n",
    "        self.val = val\n",
    "        \n",
    "    def val_times_two(self):\n",
    "        return self.val * 2\n",
    "    \n",
    "foo_a = Foo(5.0)\n",
    "foo_b = Foo(3.0)\n",
    "foo_b.val = 10.0\n",
    "\n",
    "print(\"Some examples:\")\n",
    "print(f\"  {foo_a.val=}\")\n",
    "print(f\"  {foo_a.val_times_two()=}\")\n",
    "print(f\"  {foo_b.val=}\")\n",
    "print(f\"  {foo_b.val_times_two()=}\")"
   ]
  },
  {
   "cell_type": "markdown",
   "metadata": {},
   "source": [
    "## Numpy & Plotting\n",
    "\n",
    "Numpy is a matrix and linear algebra library that we will be using **extensively** throughout this course. If you have never seen it before, I recommend that you go through this quickstart, which (though a bit dry) should not take you more than an hour: https://numpy.org/doc/stable/user/quickstart.html\n",
    "\n",
    "You can run examples here:"
   ]
  },
  {
   "cell_type": "code",
   "execution_count": null,
   "metadata": {},
   "outputs": [],
   "source": [
    "import numpy as np\n",
    "\n",
    "# A basic example\n",
    "some_values_np = np.arange(10)\n",
    "print(f\"{some_values_np}\")\n",
    "print(f\"{some_values_np.sum()=}\")"
   ]
  },
  {
   "cell_type": "markdown",
   "metadata": {},
   "source": [
    "Numpy has incredibly well-optimized functions for handling arrays and matrices of data. Here's an example of how much faster it can be to sum a number of elements using numpy:"
   ]
  },
  {
   "cell_type": "code",
   "execution_count": null,
   "metadata": {},
   "outputs": [],
   "source": [
    "N = 10000\n",
    "lpy = list(range(N))\n",
    "lnp = np.arange(N)\n",
    "\n",
    "def add_all_elements(dat):\n",
    "    total = 0\n",
    "    for el in dat:\n",
    "        total += el\n",
    "    \n",
    "    return total\n",
    "\n",
    "%timeit add_all_elements(lpy)\n",
    "%timeit sum(lpy)\n",
    "%timeit lnp.sum()"
   ]
  },
  {
   "cell_type": "markdown",
   "metadata": {},
   "source": [
    "Besides speed, Numpy also allows you to manipulate multi-dimensional data with ease (and use Python slicing operations) and perform some linear algebra functions:"
   ]
  },
  {
   "cell_type": "code",
   "execution_count": null,
   "metadata": {},
   "outputs": [],
   "source": [
    "# Build a data matrix via the outer product operation\n",
    "data = np.outer(np.arange(7), np.arange(7))\n",
    "print(f\"Matrix: \\n{data}\")\n",
    "print(f\"Matrix shape: {data.shape} and size: {data.size}\")\n",
    "print(f\"Selecting even rows: \\n{data[::2]}\")\n",
    "print(f\"Selecting even columns: \\n{data[:, ::2]}\")\n",
    "\n",
    "print(f\"Matrix sum: {data.sum()}\")\n",
    "print(f\"Using * gives element-wise multiplication: \\n{data * data}\")\n",
    "print(f\"Using @ gives matrix multiplication: \\n{data @ data}\")\n",
    "print(f\"Using np.matmul gives matrix multiplication: \\n{np.matmul(data, data)}\")"
   ]
  },
  {
   "cell_type": "markdown",
   "metadata": {},
   "source": [
    "### Plotting\n",
    "\n",
    "There are plenty of ways to plot data, provided by `matplotlib.pyplot`. I highly recommend you take a look at some examples online as well, but here are a few to get you started:"
   ]
  },
  {
   "cell_type": "code",
   "execution_count": null,
   "metadata": {},
   "outputs": [],
   "source": [
    "import numpy as np\n",
    "import matplotlib.pyplot as plt\n",
    "\n",
    "N = 10\n",
    "data = np.zeros((N, N))\n",
    "data[2, 3] = -0.5\n",
    "data[4:7, 5:8] = 1.0\n",
    "data[5, 6] = 0.5\n",
    "\n",
    "print(data)\n",
    "\n",
    "fig = plt.figure(figsize=(10, 5), dpi=300)\n",
    "plt.subplot(131)\n",
    "plt.imshow(data)\n",
    "plt.subplot(132)\n",
    "plt.imshow(data, cmap='gray')\n",
    "plt.subplot(133)\n",
    "# Set vmin and vmax so that the 'middle' of the cmap is at zero.\n",
    "plt.imshow(data, vmin=-1, vmax=1, cmap='PiYG')\n",
    "\n",
    "None"
   ]
  },
  {
   "cell_type": "code",
   "execution_count": null,
   "metadata": {},
   "outputs": [],
   "source": []
  }
 ],
 "metadata": {
  "kernelspec": {
   "display_name": "Python3 (CS482)",
   "language": "python",
   "name": "cs482venv"
  },
  "language_info": {
   "codemirror_mode": {
    "name": "ipython",
    "version": 3
   },
   "file_extension": ".py",
   "mimetype": "text/x-python",
   "name": "python",
   "nbconvert_exporter": "python",
   "pygments_lexer": "ipython3",
   "version": "3.8.5"
  }
 },
 "nbformat": 4,
 "nbformat_minor": 4
}
