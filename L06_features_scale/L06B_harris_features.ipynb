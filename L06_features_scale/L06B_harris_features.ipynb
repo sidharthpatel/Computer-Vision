{
 "cells": [
  {
   "cell_type": "markdown",
   "metadata": {},
   "source": [
    "# L06B Automatic Scale Detection\n",
    "\n",
    "The objective of this breakout session is to experiment with using the (normalized) Laplacian of Gaussian (LoG) filter to detect the scale of \"blobs\" in images.\n",
    "\n",
    "You will need to define the LoG filter function `get_LoG_filter(kernel_size, sigma)`, apply it at multiple scales and show that the peak of the filter response occurs at the $\\sigma$ we expect.\n",
    "\n",
    "1. Implement the (normalized) LoG filter function using [this resource](https://homepages.inf.ed.ac.uk/rbf/HIPR2/log.htm).\n",
    "2. Visualize a few filtered circle images (to confirm it works as expected) after applying the LoG filter. You should see a change as a function of $\\sigma$.\n",
    "3. Compute the maximum response as a function of $\\sigma$ and plot the results (for each sigma, apply the filter and compute the maximum response [positive and negative] via `np.abs(filtered_image).max()`). Does the maximum occur where you expect? How does this compare to the location of the maximal response for the unnormalized LoG filter."
   ]
  },
  {
   "cell_type": "code",
   "execution_count": null,
   "metadata": {},
   "outputs": [],
   "source": [
    "import matplotlib.pyplot as plt\n",
    "import numpy as np\n",
    "import scipy.signal\n",
    "\n",
    "def get_circ_image(image_size, radius):\n",
    "    \"\"\"Create an image of width `image_size` with a circle \n",
    "    of radius `radius` in its center.\"\"\"\n",
    "    assert(image_size % 2 == 1)\n",
    "    h = (image_size + 1)//2\n",
    "    d = np.arange(h)\n",
    "    d = np.concatenate((d[::-1], d[1:]))\n",
    "    d = d[:, np.newaxis]\n",
    "    d_sq = d**2 + d.T ** 2\n",
    "    # Threshold by squared radius\n",
    "    d_sq = (d_sq <= radius**2).astype(np.float)\n",
    "    return d_sq\n",
    "\n",
    "def get_LoG_filter(kernel_size, sigma):\n",
    "    raise NotImplementedError(\"Your task is to implement the LoG filter.\")\n",
    "\n",
    "def apply_filter(signal, filt):\n",
    "    \"\"\"Apply a filter to an image; wrapper around scipy.\"\"\"\n",
    "    return scipy.signal.convolve2d(signal, filt, mode='same')\n",
    "\n",
    "# First let's visualize the image\n",
    "im_half_size = 25\n",
    "fig = plt.figure()\n",
    "circ_img = get_circ_image(2 * im_half_size + 1, radius=10)\n",
    "plt.imshow(circ_img)\n",
    "plt.title(\"The starting image.\")\n",
    "print(f\"Image max value: {circ_img.max()}\")\n",
    "\n",
    "# Next, using the LoG filter, apply the filter at a few different radii to the images:\n",
    "raise NotImplementedError(\"Get filter for different sigma, apply it to the images, and plot\")\n",
    "\n",
    "# Finally, plot the maximal \"response\" of the filtered images as a function of sigma.\n",
    "# Try to recover the plots from lecture!\n",
    "raise NotImplementedError(\"Get maximal filter response as a function of sigma.\")\n",
    "\n",
    "None"
   ]
  },
  {
   "cell_type": "markdown",
   "metadata": {},
   "source": [
    "###  [Looking Ahead] Annotating an Image with Multi-Scale Detections\n",
    "\n",
    "Just so that you know what you'll be working on next, here is a snippet from your Programming Assignment. We're going to try to reproduce some of the figures from lecture, combining the non-maximal supression (peak detection) from the Harris corner detection with the new scale-space representation.\n",
    "\n",
    "I have provided you with a simple image with two circles in it. Your task is to automatically identify where these \"blobs\" are and what their radius is, and draw circles on the image as follows: \n",
    "\n",
    "<img src=\"auto_feature_detection_result.png\" width=\"400\">\n",
    "\n",
    "This will require computing \"blob\" features in both image-space and in scale space (by sweeping sigma). Features exist at extrema of $f$ in both image space and scale space.\n"
   ]
  }
 ],
 "metadata": {
  "kernelspec": {
   "display_name": "Python 3",
   "language": "python",
   "name": "python3"
  },
  "language_info": {
   "codemirror_mode": {
    "name": "ipython",
    "version": 3
   },
   "file_extension": ".py",
   "mimetype": "text/x-python",
   "name": "python",
   "nbconvert_exporter": "python",
   "pygments_lexer": "ipython3",
   "version": "3.8.5"
  }
 },
 "nbformat": 4,
 "nbformat_minor": 4
}
