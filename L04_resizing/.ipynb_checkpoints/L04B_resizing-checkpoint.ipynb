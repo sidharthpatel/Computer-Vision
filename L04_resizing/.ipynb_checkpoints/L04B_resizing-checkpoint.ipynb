{
 "cells": [
  {
   "cell_type": "markdown",
   "metadata": {},
   "source": [
    "# L04B: Image Resizing"
   ]
  },
  {
   "cell_type": "markdown",
   "metadata": {},
   "source": [
    "Today you'll be generating \"image pyramids.\" In class, we defined the 5-element kernel for computing the Gaussian Image Pyramid as follows:\n",
    "\n",
    "$$ k = \\begin{bmatrix} w_0 \\\\ w_1 \\\\ w_2 \\\\ w_3 \\\\ w_4 \\end{bmatrix} = \\begin{bmatrix} c \\\\ b \\\\ a \\\\ b \\\\ c \\end{bmatrix} = \\begin{bmatrix} 1/4 - a/2 \\\\ 1/4 \\\\ a \\\\ 1/4 \\\\ 1/4 - a/2 \\end{bmatrix} $$\n",
    "\n",
    "where $a$ is a free parameter, usually between 0.3 and 0.6.\n",
    "\n",
    "### L02B.2.1 1D Gaussian \"Image Pyramid\"\n",
    "\n",
    "you should create a Gaussian image pyramid using the kernel for different values of $a$. You should try not use the `scipy.signal.convolve` function in your implementation; \"correctly\" handling the boundary conditions is part of what I am hoping you will think deeply about!\n",
    "\n",
    "To visualize the pyramid, add all the images to a single rectangular image, as in the example from class:\n",
    "\n",
    "<img src=\"image_pyramid.png\" alt=\"Image Pyramid\" style=\"width: 400px;\"/>\n",
    "\n",
    "The image I have given you is 1025x1025 pixels. Conceptual question: What is the size of the smallest rectangular image that can fit the image pyramid?\n",
    "\n",
    "**We will start by making a \"Gaussian Pyramid\" of a 1D signal** (in fact, the same signal from last time). Below, I have provided a simple function that naively *reduces* (downsamples by a factor of 2) the signal using Nearest Neighbor. You should implement the `gaussian_reduce` function using either of the versions I have started below. How does your Gaussian Pyramid output differ from the nearest neighbor solution?\n",
    "\n",
    "If you finish, think about how you would extend this function to work for a 2D."
   ]
  },
  {
   "cell_type": "code",
   "execution_count": null,
   "metadata": {},
   "outputs": [],
   "source": [
    "import numpy as np\n",
    "import matplotlib.pyplot as plt\n",
    "import scipy.signal\n",
    "\n",
    "def compute_example_signal(length=256, step_width=64):\n",
    "    step_center = length//2\n",
    "    x = np.arange(length) - step_center\n",
    "    signal = (np.abs(x) < step_width/2).astype(np.float)\n",
    "    # Add noise to the signal\n",
    "    signal += np.random.normal(scale=0.05, size=signal.shape)\n",
    "    return signal\n",
    "\n",
    "def nearest_neighbor_reduce(signal):\n",
    "    \"\"\"Takes in a signal and returns a downsampled \n",
    "    version of that signal using nearest neighbor.\"\"\"\n",
    "    return signal[::2]\n",
    "\n",
    "plt.figure(dpi=150, figsize=(12, 3))\n",
    "signal = compute_example_signal(length=256+1)\n",
    "plt.subplot(1, 4, 1)\n",
    "plt.plot(signal)\n",
    "\n",
    "plt.subplot(1, 4, 2)\n",
    "signal = nearest_neighbor_reduce(signal)\n",
    "plt.plot(signal)\n",
    "\n",
    "plt.subplot(1, 4, 3)\n",
    "signal = nearest_neighbor_reduce(signal)\n",
    "plt.plot(signal)\n",
    "\n",
    "plt.subplot(1, 4, 4)\n",
    "signal = nearest_neighbor_reduce(signal)\n",
    "plt.plot(signal)\n",
    "plt.show()"
   ]
  },
  {
   "cell_type": "code",
   "execution_count": null,
   "metadata": {},
   "outputs": [],
   "source": [
    "## Now do the same thing with the Gaussian Pyramid kernel from class:\n",
    "# Implement either of these 'reduce' functions:\n",
    "def gaussian_reduce(signal):\n",
    "    # Initialize the output signal\n",
    "    out_signal = np.zeros((signal.shape[0]+1)//2)\n",
    "    # Loop through the elements of the output signal\n",
    "    # and populate them with the values from the input\n",
    "    for ii in range(out_signal.size):\n",
    "        value = 0\n",
    "        out_signal[ii] = value\n",
    "        raise NotImplementedError(\"Define 'value'\")\n",
    "        \n",
    "def gaussian_reduce_scipy(signal):\n",
    "    kernel = []\n",
    "    raise NotImplementedError(\"Define the Kernel\")\n",
    "    out_signal = scipy.signal.convolve(signal, kernel, mode='same')\n",
    "    return out_signal[::2]\n",
    "\n",
    "plt.figure(dpi=150, figsize=(12, 3))\n",
    "signal = compute_example_signal(length=256+1)\n",
    "plt.subplot(1, 4, 1)\n",
    "plt.plot(signal)\n",
    "\n",
    "plt.subplot(1, 4, 2)\n",
    "signal = gaussian_reduce(signal)\n",
    "plt.plot(signal)\n",
    "\n",
    "plt.subplot(1, 4, 3)\n",
    "signal = gaussian_reduce(signal)\n",
    "plt.plot(signal)\n",
    "\n",
    "plt.subplot(1, 4, 4)\n",
    "signal = gaussian_reduce(signal)\n",
    "plt.plot(signal)"
   ]
  },
  {
   "cell_type": "markdown",
   "metadata": {},
   "source": [
    "### L02B.2 [Post-Class Optional Exercise] 2D Gaussian Image Pyramid\n",
    "\n",
    "Once you have generated a 1D 'pyramid', you should have an idea of how you might generalize this concept to work in 2D, something you will need to do for your homework. Using the image I have provided below (`lake_long_exposure_scene.png`), extend your `gaussian_reduce` function above to accept 2D inputs. *Note*: thinking about how to apply the kernel is the key here. Do you need to make a separate 2D kernel, or is it sufficient to apply the 1D kernel along the two different axes?"
   ]
  },
  {
   "cell_type": "code",
   "execution_count": null,
   "metadata": {
    "scrolled": true
   },
   "outputs": [],
   "source": [
    "## Once you're done, you can do the same thing for this image\n",
    "## by extending your gaussian_reduce function to handle 2D input.\n",
    "from PIL import Image\n",
    "\n",
    "def load_image(filepath):\n",
    "    \"\"\"Loads an image into a numpy array.\n",
    "    Note: image will have 3 color channels [r, g, b].\"\"\"\n",
    "    img = Image.open(filepath)\n",
    "    return (np.asarray(img).astype(np.float)/255)[:, :, :3]\n",
    "\n",
    "image = load_image(\"lake_long_exposure_scene.png\")\n",
    "fig = plt.figure(figsize=(4, 4), dpi=150)\n",
    "plt.imshow(image)\n",
    "None"
   ]
  },
  {
   "cell_type": "markdown",
   "metadata": {},
   "source": [
    "### L02B.3 [Post-Class Optional Exercise] Laplacian Image Pyramid\n",
    "\n",
    "If you still want to test your understanding after class, **generate Laplacian Image Pyramids (one for each color channel) for the image I have provided**. This will require implementing the `EXPAND` function, that inverts the `REDUCE` function (as much as is possible) used to compute the Gaussian image pyramid. The process for expanding is similar to the downsampling process. We still enforce the *equal contribution criterion*, resulting in a process that looks as follows:\n",
    "\n",
    "<img src=\"laplace_expand_fn.png\" alt=\"Image Pyramid\" style=\"width: 400px;\"/>\n",
    "\n",
    "You can implement this using either the convolution operation or using a `for` loop. The convolution version might require some thought, since you will need to upsample the image first (somehow) before convolving. The `for` loop version is perhaps easier.\n",
    "\n",
    "(Again, try to pick a divergent color maps for the Laplacian image pyramid. It makes visualizing the results much easier.)\n"
   ]
  },
  {
   "cell_type": "code",
   "execution_count": null,
   "metadata": {},
   "outputs": [],
   "source": [
    "from PIL import Image\n",
    "\n",
    "def load_image(filepath):\n",
    "    \"\"\"Loads an image into a numpy array.\n",
    "    Note: image will have 3 color channels [r, g, b].\"\"\"\n",
    "    img = Image.open(filepath)\n",
    "    return (np.asarray(img).astype(np.float)/255)[:, :, :3]\n",
    "\n",
    "image = load_image(\"lake_long_exposure_scene.png\")\n",
    "image_r = image[:, :, 0]\n",
    "image_g = image[:, :, 1]\n",
    "image_b = image[:, :, 2]\n",
    "\n",
    "fig = plt.figure(figsize=(8, 8), dpi=150)\n",
    "ax = plt.subplot(2, 2, 1)\n",
    "ax.imshow(image)\n",
    "ax = plt.subplot(2, 2, 2)\n",
    "ax.imshow(image_r, cmap='gray', vmin=0, vmax=1)\n",
    "ax = plt.subplot(2, 2, 3)\n",
    "ax.imshow(image_g, cmap='gray', vmin=0, vmax=1)\n",
    "ax = plt.subplot(2, 2, 4)\n",
    "ax.imshow(image_b, cmap='gray', vmin=0, vmax=1)\n",
    "\n",
    "None"
   ]
  },
  {
   "cell_type": "code",
   "execution_count": null,
   "metadata": {},
   "outputs": [],
   "source": []
  }
 ],
 "metadata": {
  "kernelspec": {
   "display_name": "Python3 (CS682)",
   "language": "python",
   "name": "cs682venv"
  },
  "language_info": {
   "codemirror_mode": {
    "name": "ipython",
    "version": 3
   },
   "file_extension": ".py",
   "mimetype": "text/x-python",
   "name": "python",
   "nbconvert_exporter": "python",
   "pygments_lexer": "ipython3",
   "version": "3.8.5"
  }
 },
 "nbformat": 4,
 "nbformat_minor": 4
}
